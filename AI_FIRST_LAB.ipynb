{
  "nbformat": 4,
  "nbformat_minor": 0,
  "metadata": {
    "colab": {
      "provenance": [],
      "toc_visible": true,
      "gpuType": "T4",
      "authorship_tag": "ABX9TyMd0k/kLX34yQ7zYcnxVgl8",
      "include_colab_link": true
    },
    "kernelspec": {
      "name": "python3",
      "display_name": "Python 3"
    },
    "language_info": {
      "name": "python"
    },
    "accelerator": "GPU"
  },
  "cells": [
    {
      "cell_type": "markdown",
      "metadata": {
        "id": "view-in-github",
        "colab_type": "text"
      },
      "source": [
        "<a href=\"https://colab.research.google.com/github/Khog123/CSCE155-C-Lab01/blob/main/AI_FIRST_LAB.ipynb\" target=\"_parent\"><img src=\"https://colab.research.google.com/assets/colab-badge.svg\" alt=\"Open In Colab\"/></a>"
      ]
    },
    {
      "cell_type": "markdown",
      "source": [
        "# **Hello** *largest AI & ML community*\n",
        "### Join over 25M+ machine learners to share, stress\n",
        "test, and stay up-to-date on all the latest ML techniques and technologies. Discover a huge repository of community-published models, data & code for your next project."
      ],
      "metadata": {
        "id": "SshSH-2x4R8J"
      }
    },
    {
      "cell_type": "code",
      "source": [
        "print (\"hello\")"
      ],
      "metadata": {
        "colab": {
          "base_uri": "https://localhost:8080/"
        },
        "id": "9YJJ6c9z4hBp",
        "outputId": "73e6b876-f1de-4af3-9384-b504671f9fb0"
      },
      "execution_count": null,
      "outputs": [
        {
          "output_type": "stream",
          "name": "stdout",
          "text": [
            "hello\n"
          ]
        }
      ]
    },
    {
      "cell_type": "markdown",
      "source": [
        "\n",
        "num1 = 12\n",
        "\n",
        "sum2 = 14\n",
        "\n",
        "Add = num1 + num2\n",
        "\n",
        "Result = print (Add)\n",
        "```\n",
        "# This is formatted as code\n",
        "```\n",
        "\n",
        "# New section"
      ],
      "metadata": {
        "id": "_puei2hM5r3x"
      }
    },
    {
      "cell_type": "code",
      "source": [
        "a = 12\n",
        "b = 23\n",
        "\n",
        "add = a + b\n",
        "\n",
        "print (add)"
      ],
      "metadata": {
        "colab": {
          "base_uri": "https://localhost:8080/"
        },
        "id": "VkUEnJWO6lDo",
        "outputId": "bf3ae078-860e-44a5-e59a-8c136405f757"
      },
      "execution_count": null,
      "outputs": [
        {
          "output_type": "stream",
          "name": "stdout",
          "text": [
            "35\n"
          ]
        }
      ]
    },
    {
      "cell_type": "code",
      "source": [
        "num1 = 32\n",
        "num2 = 23\n",
        "\n",
        "product = num1 + num2\n",
        "\n",
        "Result = product\n",
        "print (Result)"
      ],
      "metadata": {
        "colab": {
          "base_uri": "https://localhost:8080/"
        },
        "id": "cGPYhPcL6xrY",
        "outputId": "2abc5cf7-4f73-494a-c656-3d06629f136d"
      },
      "execution_count": null,
      "outputs": [
        {
          "output_type": "stream",
          "name": "stdout",
          "text": [
            "55\n"
          ]
        }
      ]
    },
    {
      "cell_type": "code",
      "source": [
        "x = 8747\n",
        "y = 978\n",
        "\n",
        "div = x / y\n",
        "print (div)"
      ],
      "metadata": {
        "colab": {
          "base_uri": "https://localhost:8080/"
        },
        "id": "bZOr9aCL7NLg",
        "outputId": "430dbad3-5326-4e8d-8a3b-fe47346156ae"
      },
      "execution_count": null,
      "outputs": [
        {
          "output_type": "stream",
          "name": "stdout",
          "text": [
            "8.943762781186095\n"
          ]
        }
      ]
    }
  ]
}