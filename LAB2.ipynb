{
  "nbformat": 4,
  "nbformat_minor": 0,
  "metadata": {
    "colab": {
      "provenance": []
    },
    "kernelspec": {
      "name": "python3",
      "display_name": "Python 3"
    },
    "language_info": {
      "name": "python"
    }
  },
  "cells": [
    {
      "cell_type": "code",
      "execution_count": null,
      "metadata": {
        "id": "AZ0jAJoF37QE"
      },
      "outputs": [],
      "source": []
    },
    {
      "cell_type": "markdown",
      "source": [
        "## **Lists**"
      ],
      "metadata": {
        "id": "KEEuIaLC47dL"
      }
    },
    {
      "cell_type": "code",
      "source": [
        "num = [1, 22, 56, 5 , 67, 8]\n",
        "print('Numbers', num)\n",
        "\n",
        "#Sum of the Num\n",
        "print('Sum:', sum(num))\n",
        "#Finding the Min Num\n",
        "print('Min:', min(num))\n",
        "#Finding the Max Num\n",
        "print('Max:', max(num))\n",
        "\n",
        "\n",
        "#Add a new element\n",
        "num.append(50)\n",
        "#Removing an existing element\n",
        "num.remove(5)\n",
        "\n",
        "#Updated List\n",
        "print('Updated List:', num)\n",
        "\n",
        "#Sorting list in ascending and descending order\n",
        "print('Ascending',sorted(num))\n",
        "print('Descending',sorted(num, reverse=True))\n"
      ],
      "metadata": {
        "colab": {
          "base_uri": "https://localhost:8080/"
        },
        "id": "bIuLfB5gAVzL",
        "outputId": "2621c14d-eec1-4e53-af7c-b05c6e045346"
      },
      "execution_count": 7,
      "outputs": [
        {
          "output_type": "stream",
          "name": "stdout",
          "text": [
            "Numbers [1, 22, 56, 5, 67, 8]\n",
            "Sum: 159\n",
            "Min: 1\n",
            "Max: 67\n",
            "Updated List: [1, 22, 56, 67, 8, 50]\n",
            "Ascending [1, 8, 22, 50, 56, 67]\n",
            "Descending [67, 56, 50, 22, 8, 1]\n"
          ]
        }
      ]
    },
    {
      "cell_type": "markdown",
      "source": [
        "# **Tuples**"
      ],
      "metadata": {
        "id": "DF7njJ-L5CqT"
      }
    },
    {
      "cell_type": "code",
      "source": [
        "#Create 5 strings\n",
        "fruits = ('Apple', 'Mango', 'Banana')\n",
        "names = ('Asif', 'Yawar', 'ali')\n",
        "marks = (99, 98, 100)\n",
        "colors = ('red', 'blue')\n",
        "age = (24, 25, 24)\n",
        "hats = ('cap')\n",
        "print('Second element', fruits[1])\n",
        "print('Third element', names[2])\n",
        "print('First element', marks[2])\n",
        "print('Second element', colors[1])\n",
        "print('Third element', age[2])\n",
        "print(hats)\n",
        "\n",
        "\n",
        "\n",
        "\n",
        "#Convert tuple to Lists\n",
        "fruits_list = list(fruits)\n",
        "fruit_list = 'orange'\n",
        "print('Modified fruit_list', fruits_list)"
      ],
      "metadata": {
        "colab": {
          "base_uri": "https://localhost:8080/"
        },
        "id": "v8xhwN6dE5NM",
        "outputId": "26b8b213-d35a-43a9-94b4-8cb354239bb8"
      },
      "execution_count": 20,
      "outputs": [
        {
          "output_type": "stream",
          "name": "stdout",
          "text": [
            "Second element Mango\n",
            "Third element ali\n",
            "First element 100\n",
            "Second element blue\n",
            "Third element 24\n",
            "cap\n",
            "Modified fruit_list ['Apple', 'Mango', 'Banana']\n"
          ]
        }
      ]
    },
    {
      "cell_type": "markdown",
      "source": [
        "# **Sets**"
      ],
      "metadata": {
        "id": "sk9hoaLh5HVr"
      }
    },
    {
      "cell_type": "code",
      "source": [
        "#create sets\n",
        "set_a = {1, 2 , 23,  44, 86}\n",
        "set_b = {5, 8 , 9 , 6, 5}\n",
        "\n",
        "#union, Intersection, Difference\n",
        "print('Union',set_a | set_b)\n",
        "print('Intersection',set_a & set_b)\n",
        "print('Difference', set_a / set_b)\n"
      ],
      "metadata": {
        "colab": {
          "base_uri": "https://localhost:8080/",
          "height": 211
        },
        "id": "j3TLdIGMFQ-j",
        "outputId": "eb030636-0922-4c3f-8ab7-a0ed2367922a"
      },
      "execution_count": 21,
      "outputs": [
        {
          "output_type": "stream",
          "name": "stdout",
          "text": [
            "Union {1, 2, 5, 6, 8, 9, 44, 86, 23}\n",
            "Intersection set()\n"
          ]
        },
        {
          "output_type": "error",
          "ename": "TypeError",
          "evalue": "unsupported operand type(s) for /: 'set' and 'set'",
          "traceback": [
            "\u001b[0;31m---------------------------------------------------------------------------\u001b[0m",
            "\u001b[0;31mTypeError\u001b[0m                                 Traceback (most recent call last)",
            "\u001b[0;32m/tmp/ipython-input-2054629229.py\u001b[0m in \u001b[0;36m<cell line: 0>\u001b[0;34m()\u001b[0m\n\u001b[1;32m      6\u001b[0m \u001b[0mprint\u001b[0m\u001b[0;34m(\u001b[0m\u001b[0;34m'Union'\u001b[0m\u001b[0;34m,\u001b[0m\u001b[0mset_a\u001b[0m \u001b[0;34m|\u001b[0m \u001b[0mset_b\u001b[0m\u001b[0;34m)\u001b[0m\u001b[0;34m\u001b[0m\u001b[0;34m\u001b[0m\u001b[0m\n\u001b[1;32m      7\u001b[0m \u001b[0mprint\u001b[0m\u001b[0;34m(\u001b[0m\u001b[0;34m'Intersection'\u001b[0m\u001b[0;34m,\u001b[0m\u001b[0mset_a\u001b[0m \u001b[0;34m&\u001b[0m \u001b[0mset_b\u001b[0m\u001b[0;34m)\u001b[0m\u001b[0;34m\u001b[0m\u001b[0;34m\u001b[0m\u001b[0m\n\u001b[0;32m----> 8\u001b[0;31m \u001b[0mprint\u001b[0m\u001b[0;34m(\u001b[0m\u001b[0;34m'Difference'\u001b[0m\u001b[0;34m,\u001b[0m \u001b[0mset_a\u001b[0m \u001b[0;34m/\u001b[0m \u001b[0mset_b\u001b[0m\u001b[0;34m)\u001b[0m\u001b[0;34m\u001b[0m\u001b[0;34m\u001b[0m\u001b[0m\n\u001b[0m",
            "\u001b[0;31mTypeError\u001b[0m: unsupported operand type(s) for /: 'set' and 'set'"
          ]
        }
      ]
    },
    {
      "cell_type": "markdown",
      "source": [
        "# **Dictionaries**"
      ],
      "metadata": {
        "id": "qEUH8qYu5KzT"
      }
    },
    {
      "cell_type": "code",
      "source": [
        "#create a dictionary\n",
        "std_info= {\n",
        "    'name': 'asif nawaz khan',\n",
        "    'Section' : 'C',\n",
        "    'Semester' : '6th'\n",
        "}\n",
        "\n",
        "#change\n",
        "std_info['section'] = 'A'\n",
        "\n",
        "for key,value in std_info.items():\n",
        "  print(f'{key} : {value}')"
      ],
      "metadata": {
        "colab": {
          "base_uri": "https://localhost:8080/"
        },
        "id": "oa339q3TJv8M",
        "outputId": "1eb78de8-bac0-47da-b0e0-4043e28ebe1f"
      },
      "execution_count": 24,
      "outputs": [
        {
          "output_type": "stream",
          "name": "stdout",
          "text": [
            "name : asif nawaz khan\n",
            "Section : C\n",
            "Semester : 6th\n",
            "section : A\n"
          ]
        }
      ]
    },
    {
      "cell_type": "markdown",
      "source": [
        "# **Numpy**"
      ],
      "metadata": {
        "id": "N4uekRM-5P7D"
      }
    },
    {
      "cell_type": "markdown",
      "source": [
        "# **Matlib**"
      ],
      "metadata": {
        "id": "X5GhAbzJ5VGz"
      }
    }
  ]
}